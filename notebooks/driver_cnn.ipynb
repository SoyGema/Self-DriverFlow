{
 "cells": [
  {
   "cell_type": "code",
   "execution_count": 1,
   "metadata": {
    "collapsed": false
   },
   "outputs": [],
   "source": [
    "import tensorflow as tf\n",
    "import pandas as pd\n",
    "import numpy as np\n",
    "\n",
    "## IMPORT FROM DATASET\n",
    "import load_image_batch as driving_data"
   ]
  },
  {
   "cell_type": "code",
   "execution_count": 2,
   "metadata": {
    "collapsed": true
   },
   "outputs": [],
   "source": [
    "def conv2d(x, W):\n",
    "    return tf.nn.conv2d(\n",
    "        x, W, strides=[1, 1, 1, 1], padding='SAME')\n",
    "\n",
    "def max_pool_2x2(x):\n",
    "    return tf.nn.max_pool(\n",
    "        x, ksize=[1, 2, 2, 1], strides=[1, 2, 2, 1], padding='SAME')"
   ]
  },
  {
   "cell_type": "code",
   "execution_count": 3,
   "metadata": {
    "collapsed": false
   },
   "outputs": [],
   "source": [
    "# Input and output variables\n",
    "\n",
    "INPUTS = 60 * 200 * 3\n",
    "OUTPUTS = 1\n",
    "BATCH_SIZE = 30\n",
    "NUM_EPOCHS = 50\n",
    "LEARNING_RATE = 1e-04\n",
    "NUM_IMAGES = 6892"
   ]
  },
  {
   "cell_type": "code",
   "execution_count": 4,
   "metadata": {
    "collapsed": false
   },
   "outputs": [],
   "source": [
    "try:\n",
    "    sess.close()\n",
    "except:\n",
    "    pass\n",
    "\n",
    "sess = tf.InteractiveSession()"
   ]
  },
  {
   "cell_type": "code",
   "execution_count": 5,
   "metadata": {
    "collapsed": false
   },
   "outputs": [
    {
     "name": "stdout",
     "output_type": "stream",
     "text": [
      "(?, 64, 224, 3)\n",
      "(?, 32, 112, 64)\n",
      "(?, 16, 56, 128)\n",
      "(?, 8, 28, 256)\n",
      "(?, 4, 14, 512)\n",
      "WARNING:tensorflow:From <ipython-input-5-b6bbb30e545c>:68 in <module>.: initialize_all_variables (from tensorflow.python.ops.variables) is deprecated and will be removed after 2017-03-02.\n",
      "Instructions for updating:\n",
      "Use `tf.global_variables_initializer` instead.\n"
     ]
    }
   ],
   "source": [
    "with tf.device('/gpu:0'):\n",
    "\n",
    "    # Input and output placeholder\n",
    "    x_image = tf.placeholder(tf.float32, shape=[None, 64, 224, 3])\n",
    "    y = tf.placeholder(tf.float32, shape=[None, OUTPUTS])\n",
    "    pkeep = tf.placeholder(tf.float32)\n",
    "\n",
    "    print x_image.get_shape()\n",
    "    # First Convolutional Layer\n",
    "    W_conv_1 = tf.Variable(tf.truncated_normal([2, 2, 3, 64], stddev=0.1))\n",
    "    b_conv_1 = tf.Variable(tf.constant(0.0, shape=[64]))\n",
    "    h_conv_1 = tf.nn.relu(conv2d(x_image, W_conv_1) + b_conv_1)\n",
    "    h_pool_1 = max_pool_2x2(h_conv_1)\n",
    "\n",
    "    print(h_pool_1.get_shape())\n",
    "\n",
    "    # Second Convolutional Layer\n",
    "    W_conv_2 = tf.Variable(tf.truncated_normal([2, 2, 64, 128], stddev=0.1))\n",
    "    b_conv_2 = tf.Variable(tf.constant(0.0, shape=[128]))\n",
    "    h_conv_2 = tf.nn.relu(conv2d(h_pool_1, W_conv_2) + b_conv_2)\n",
    "    h_pool_2 = max_pool_2x2(h_conv_2)\n",
    "\n",
    "    print(h_pool_2.get_shape())\n",
    "\n",
    "    # Third Convolutional Layer\n",
    "    W_conv_3 = tf.Variable(tf.truncated_normal([2, 2, 128, 256], stddev=0.1))\n",
    "    b_conv_3 = tf.Variable(tf.constant(0.0, shape=[256]))\n",
    "    h_conv_3 = tf.nn.relu(conv2d(h_pool_2, W_conv_3) + b_conv_3)\n",
    "    h_pool_3 = max_pool_2x2(h_conv_3)\n",
    "\n",
    "    print(h_pool_3.get_shape())\n",
    "\n",
    "    # Fourth Convolutional Layer\n",
    "    W_conv_4 = tf.Variable(tf.truncated_normal([2, 2, 256, 512], stddev=0.1))\n",
    "    b_conv_4 = tf.Variable(tf.constant(0.0, shape=[512]))\n",
    "    h_conv_4 = tf.nn.relu(conv2d(h_pool_3, W_conv_4) + b_conv_4)\n",
    "    h_pool_4 = max_pool_2x2(h_conv_4)\n",
    "\n",
    "    print(h_pool_4.get_shape())\n",
    "\n",
    "    # Densely connected layer\n",
    "    W_fc1 = tf.Variable(tf.truncated_normal([4 * 14 * 512, 128], stddev=0.1))\n",
    "    b_fc1 = tf.Variable(tf.constant(0.0, shape=[128]))\n",
    "    h_poolfc1_flat = tf.reshape(h_pool_4, [-1, 4 * 14 * 512])\n",
    "    h_fc1 = tf.nn.relu(tf.matmul(h_poolfc1_flat, W_fc1) + b_fc1)\n",
    "\n",
    "    # Densely connected layer\n",
    "    W_fc2 = tf.Variable(tf.truncated_normal([128, 256], stddev=0.1))\n",
    "    b_fc2 = tf.Variable(tf.constant(0.0, shape=[256]))\n",
    "    h_fc2 = tf.nn.relu(tf.matmul(h_fc1, W_fc2) + b_fc2)\n",
    "\n",
    "    # Dropout\n",
    "    h_drop = tf.nn.dropout(h_fc2, pkeep)\n",
    "\n",
    "    # Read out Layer\n",
    "    W_fc3 = tf.Variable(tf.truncated_normal([256, OUTPUTS], stddev=0.1))\n",
    "    b_fc3 = tf.Variable(tf.constant(0.0, shape=[OUTPUTS]))\n",
    "    y_logits = tf.matmul(h_drop, W_fc3) + b_fc3\n",
    "    y_softmax = tf.nn.softmax(y_logits)\n",
    "\n",
    "    loss = tf.sqrt(tf.reduce_mean(tf.square(y - y_logits)), name='RMSE')\n",
    "    optimizer = tf.train.AdamOptimizer(LEARNING_RATE)\n",
    "    train_step = optimizer.minimize(loss)\n",
    "\n",
    "    correct_prediction = tf.sub(tf.cast(1, 'float'), tf.reduce_mean(tf.sub(y_logits, y)))\n",
    "    accuracy = tf.cast(correct_prediction, \"float\")\n",
    "\n",
    "    init = tf.initialize_all_variables()\n",
    "\n",
    "    # op to write model to Tensorboard\n",
    "    save_path = './model/'\n",
    "    saver = tf.train.Saver()\n",
    "\n",
    "    sess.run(init)"
   ]
  },
  {
   "cell_type": "code",
   "execution_count": 6,
   "metadata": {
    "collapsed": false
   },
   "outputs": [
    {
     "name": "stdout",
     "output_type": "stream",
     "text": [
      "Epoch 0000, loss train 20.27555847, train accuracy -1.43616581, test accuracy 4.13752079\n",
      "Epoch 0001, loss train 18.51984978, train accuracy -0.97587502, test accuracy -6.11340189\n",
      "Epoch 0002, loss train 13.51579189, train accuracy -1.03369975, test accuracy -5.08140564\n",
      "Epoch 0003, loss train 17.27262306, train accuracy -3.96891594, test accuracy -3.41860676\n",
      "Epoch 0004, loss train 15.03944206, train accuracy -1.36298752, test accuracy 1.60944569\n",
      "Epoch 0005, loss train 9.90858459, train accuracy 0.95250547, test accuracy -5.41214895\n",
      "Epoch 0006, loss train 14.53961468, train accuracy 2.20192289, test accuracy -2.07806492\n",
      "Epoch 0007, loss train 14.50802612, train accuracy 7.18095446, test accuracy 6.70877838\n",
      "Epoch 0008, loss train 10.63982964, train accuracy 0.40954322, test accuracy 4.26650524\n",
      "Epoch 0009, loss train 10.80507755, train accuracy 1.56507015, test accuracy 4.95804977\n",
      "Epoch 0010, loss train 8.68727112, train accuracy 1.34948051, test accuracy 4.68133402\n",
      "Epoch 0011, loss train 7.38762617, train accuracy 0.32249808, test accuracy 2.40546036\n",
      "Epoch 0012, loss train 8.52321053, train accuracy -1.32761478, test accuracy 0.88142788\n",
      "Epoch 0013, loss train 10.75503731, train accuracy 5.49845839, test accuracy 2.92560673\n",
      "Epoch 0014, loss train 10.52437115, train accuracy 0.49810374, test accuracy 2.84900570\n",
      "Epoch 0015, loss train 5.04772663, train accuracy 0.97263664, test accuracy -0.12835312\n",
      "Epoch 0016, loss train 7.31234837, train accuracy -0.74309230, test accuracy -0.04676878\n",
      "Epoch 0017, loss train 6.48677540, train accuracy 1.08702755, test accuracy 5.08799171\n",
      "Epoch 0018, loss train 7.37077141, train accuracy 0.31966770, test accuracy -1.16260386\n",
      "Epoch 0019, loss train 8.72372150, train accuracy -1.25683761, test accuracy 4.06065083\n",
      "Epoch 0020, loss train 7.76736736, train accuracy 0.43649554, test accuracy 1.54469442\n",
      "Epoch 0021, loss train 7.28151512, train accuracy 0.17301226, test accuracy -3.82153225\n",
      "Epoch 0022, loss train 5.67689085, train accuracy 1.04471171, test accuracy 3.53439760\n",
      "Epoch 0023, loss train 6.96247721, train accuracy 1.38769674, test accuracy -1.07755327\n",
      "Epoch 0024, loss train 15.56964016, train accuracy 0.92286927, test accuracy 4.65681839\n",
      "Epoch 0025, loss train 15.86751938, train accuracy 1.09098983, test accuracy 3.74766278\n",
      "Epoch 0026, loss train 5.51806068, train accuracy 2.66129732, test accuracy 3.50276804\n",
      "Epoch 0027, loss train 5.17216921, train accuracy 3.16585445, test accuracy 4.98978901\n",
      "Epoch 0028, loss train 4.87618876, train accuracy 3.19979143, test accuracy 1.23624396\n",
      "Epoch 0029, loss train 4.89912605, train accuracy 0.41450346, test accuracy 2.79908133\n",
      "Epoch 0030, loss train 4.38644409, train accuracy 0.64997411, test accuracy 4.08614445\n",
      "Epoch 0031, loss train 5.87493134, train accuracy -1.15421963, test accuracy -0.11800206\n",
      "Epoch 0032, loss train 9.07541943, train accuracy -2.69274569, test accuracy -9.64923477\n"
     ]
    },
    {
     "ename": "IndexError",
     "evalue": "list index out of range",
     "output_type": "error",
     "traceback": [
      "\u001b[0;31m---------------------------------------------------------------------------\u001b[0m",
      "\u001b[0;31mIndexError\u001b[0m                                Traceback (most recent call last)",
      "\u001b[0;32m<ipython-input-6-8305fc5f97ba>\u001b[0m in \u001b[0;36m<module>\u001b[0;34m()\u001b[0m\n\u001b[1;32m      5\u001b[0m \u001b[0;32mfor\u001b[0m \u001b[0mcurrent_epoch\u001b[0m \u001b[0;32min\u001b[0m \u001b[0mrange\u001b[0m\u001b[0;34m(\u001b[0m\u001b[0mNUM_EPOCHS\u001b[0m\u001b[0;34m)\u001b[0m\u001b[0;34m:\u001b[0m\u001b[0;34m\u001b[0m\u001b[0m\n\u001b[1;32m      6\u001b[0m \u001b[0;34m\u001b[0m\u001b[0m\n\u001b[0;32m----> 7\u001b[0;31m     \u001b[0mtest_dataset\u001b[0m\u001b[0;34m,\u001b[0m \u001b[0mtest_labels\u001b[0m \u001b[0;34m=\u001b[0m \u001b[0mdriving_data\u001b[0m\u001b[0;34m.\u001b[0m\u001b[0mget_test_batch\u001b[0m\u001b[0;34m(\u001b[0m\u001b[0mBATCH_SIZE\u001b[0m\u001b[0;34m)\u001b[0m\u001b[0;34m\u001b[0m\u001b[0m\n\u001b[0m\u001b[1;32m      8\u001b[0m \u001b[0;34m\u001b[0m\u001b[0m\n\u001b[1;32m      9\u001b[0m     \u001b[0;32mfor\u001b[0m \u001b[0mstep\u001b[0m \u001b[0;32min\u001b[0m \u001b[0mrange\u001b[0m\u001b[0;34m(\u001b[0m\u001b[0mint\u001b[0m\u001b[0;34m(\u001b[0m\u001b[0mNUM_IMAGES\u001b[0m \u001b[0;34m/\u001b[0m \u001b[0mBATCH_SIZE\u001b[0m\u001b[0;34m)\u001b[0m\u001b[0;34m)\u001b[0m\u001b[0;34m:\u001b[0m\u001b[0;34m\u001b[0m\u001b[0m\n",
      "\u001b[0;32m/home/ubuntu/gpu_tests/Self-DriverFlow/scripts/load_image_batch.pyc\u001b[0m in \u001b[0;36mget_test_batch\u001b[0;34m(batch_size)\u001b[0m\n\u001b[1;32m     54\u001b[0m     \u001b[0my_out\u001b[0m \u001b[0;34m=\u001b[0m \u001b[0;34m[\u001b[0m\u001b[0;34m]\u001b[0m\u001b[0;34m\u001b[0m\u001b[0m\n\u001b[1;32m     55\u001b[0m     \u001b[0;32mfor\u001b[0m \u001b[0mi\u001b[0m \u001b[0;32min\u001b[0m \u001b[0mrange\u001b[0m\u001b[0;34m(\u001b[0m\u001b[0;36m0\u001b[0m\u001b[0;34m,\u001b[0m \u001b[0mbatch_size\u001b[0m\u001b[0;34m)\u001b[0m\u001b[0;34m:\u001b[0m\u001b[0;34m\u001b[0m\u001b[0m\n\u001b[0;32m---> 56\u001b[0;31m         \u001b[0mx_out\u001b[0m\u001b[0;34m.\u001b[0m\u001b[0mappend\u001b[0m\u001b[0;34m(\u001b[0m\u001b[0mnp\u001b[0m\u001b[0;34m.\u001b[0m\u001b[0marray\u001b[0m\u001b[0;34m(\u001b[0m\u001b[0mscipy\u001b[0m\u001b[0;34m.\u001b[0m\u001b[0mmisc\u001b[0m\u001b[0;34m.\u001b[0m\u001b[0mimresize\u001b[0m\u001b[0;34m(\u001b[0m\u001b[0mscipy\u001b[0m\u001b[0;34m.\u001b[0m\u001b[0mmisc\u001b[0m\u001b[0;34m.\u001b[0m\u001b[0mimread\u001b[0m\u001b[0;34m(\u001b[0m\u001b[0mX_test\u001b[0m\u001b[0;34m[\u001b[0m\u001b[0;34m(\u001b[0m\u001b[0mINDEX_TEST_BATH\u001b[0m \u001b[0;34m+\u001b[0m \u001b[0mi\u001b[0m\u001b[0;34m)\u001b[0m \u001b[0;34m%\u001b[0m \u001b[0mnum_test_images\u001b[0m\u001b[0;34m]\u001b[0m\u001b[0;34m)\u001b[0m\u001b[0;34m[\u001b[0m\u001b[0;34m-\u001b[0m\u001b[0;36m150\u001b[0m\u001b[0;34m:\u001b[0m\u001b[0;34m]\u001b[0m\u001b[0;34m,\u001b[0m \u001b[0;34m[\u001b[0m\u001b[0;36m64\u001b[0m\u001b[0;34m,\u001b[0m \u001b[0;36m224\u001b[0m\u001b[0;34m,\u001b[0m \u001b[0;36m3\u001b[0m\u001b[0;34m]\u001b[0m\u001b[0;34m)\u001b[0m \u001b[0;34m/\u001b[0m \u001b[0;36m255.0\u001b[0m\u001b[0;34m)\u001b[0m\u001b[0;34m[\u001b[0m\u001b[0;34m:\u001b[0m\u001b[0;34m,\u001b[0m\u001b[0;34m:\u001b[0m\u001b[0;34m,\u001b[0m\u001b[0;34m:\u001b[0m\u001b[0;36m3\u001b[0m\u001b[0;34m]\u001b[0m\u001b[0;34m)\u001b[0m\u001b[0;34m\u001b[0m\u001b[0m\n\u001b[0m\u001b[1;32m     57\u001b[0m         \u001b[0my_out\u001b[0m\u001b[0;34m.\u001b[0m\u001b[0mappend\u001b[0m\u001b[0;34m(\u001b[0m\u001b[0;34m[\u001b[0m\u001b[0mY_test\u001b[0m\u001b[0;34m[\u001b[0m\u001b[0;34m(\u001b[0m\u001b[0mINDEX_TEST_BATH\u001b[0m \u001b[0;34m+\u001b[0m \u001b[0mi\u001b[0m\u001b[0;34m)\u001b[0m \u001b[0;34m%\u001b[0m \u001b[0mnum_test_images\u001b[0m\u001b[0;34m]\u001b[0m\u001b[0;34m]\u001b[0m\u001b[0;34m)\u001b[0m\u001b[0;34m\u001b[0m\u001b[0m\n\u001b[1;32m     58\u001b[0m     \u001b[0mINDEX_TEST_BATH\u001b[0m \u001b[0;34m+=\u001b[0m \u001b[0mbatch_size\u001b[0m\u001b[0;34m\u001b[0m\u001b[0m\n",
      "\u001b[0;31mIndexError\u001b[0m: list index out of range"
     ]
    }
   ],
   "source": [
    "loss_train_array = []\n",
    "test_accuracy_array = []\n",
    "train_accuracy_array = []\n",
    "\n",
    "for current_epoch in range(NUM_EPOCHS):\n",
    "    \n",
    "    test_dataset, test_labels = driving_data.get_test_batch(BATCH_SIZE)\n",
    "\n",
    "    for step in range(int(NUM_IMAGES / BATCH_SIZE)):\n",
    "        \n",
    "        train_dataset, train_labels = driving_data.get_train_batch(BATCH_SIZE)\n",
    "        \n",
    "        # This dictionary maps the batch data (as a numpy array) to the\n",
    "        # node in the graph is should be fed to.\n",
    "        feed_dict = {x_image: train_dataset, y: train_labels, pkeep: 0.8}\n",
    "        _, loss_train = sess.run([train_step, loss],\n",
    "                                 feed_dict=feed_dict)\n",
    "\n",
    "    # We calculate the accuracies to plot their values later\n",
    "    loss_train_array.append(loss_train)\n",
    "    \n",
    "    train_accuracy = sess.run(\n",
    "        accuracy, feed_dict={x_image: train_dataset, y: train_labels, pkeep: 1.0})\n",
    "    \n",
    "    train_accuracy_array.append(train_accuracy)\n",
    "    \n",
    "    test_accuracy = sess.run(\n",
    "        accuracy, feed_dict={x_image: test_dataset, y: test_labels, pkeep: 1.0})\n",
    "    \n",
    "    test_accuracy_array.append(test_accuracy)\n",
    "\n",
    "    print (\n",
    "        'Epoch %04d, '\n",
    "        'loss train %.8f, train accuracy %.8f, test accuracy %.8f'\n",
    "        %\n",
    "        (current_epoch,\n",
    "         loss_train,\n",
    "         train_accuracy,\n",
    "         test_accuracy))"
   ]
  },
  {
   "cell_type": "code",
   "execution_count": null,
   "metadata": {
    "collapsed": false
   },
   "outputs": [],
   "source": [
    "filename = saver.save(sess, '../model/model.ckpt')\n",
    "print(\"Model saved in file: %s\" % filename)"
   ]
  },
  {
   "cell_type": "code",
   "execution_count": null,
   "metadata": {
    "collapsed": true
   },
   "outputs": [],
   "source": []
  }
 ],
 "metadata": {
  "kernelspec": {
   "display_name": "Python 2",
   "language": "python",
   "name": "python2"
  },
  "language_info": {
   "codemirror_mode": {
    "name": "ipython",
    "version": 2
   },
   "file_extension": ".py",
   "mimetype": "text/x-python",
   "name": "python",
   "nbconvert_exporter": "python",
   "pygments_lexer": "ipython2",
   "version": "2.7.12"
  }
 },
 "nbformat": 4,
 "nbformat_minor": 0
}
