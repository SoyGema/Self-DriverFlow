{
 "cells": [
  {
   "cell_type": "code",
   "execution_count": 7,
   "metadata": {
    "collapsed": false
   },
   "outputs": [
    {
     "ename": "ImportError",
     "evalue": "No module named rospy",
     "output_type": "error",
     "traceback": [
      "\u001b[1;31m---------------------------------------------------------------------------\u001b[0m",
      "\u001b[1;31mImportError\u001b[0m                               Traceback (most recent call last)",
      "\u001b[1;32m<ipython-input-7-adbae62538a8>\u001b[0m in \u001b[0;36m<module>\u001b[1;34m()\u001b[0m\n\u001b[0;32m      6\u001b[0m \u001b[1;32mimport\u001b[0m \u001b[0mscipy\u001b[0m\u001b[1;33m.\u001b[0m\u001b[0mmisc\u001b[0m\u001b[1;33m\u001b[0m\u001b[0m\n\u001b[0;32m      7\u001b[0m \u001b[1;32mimport\u001b[0m \u001b[0mscipy\u001b[0m\u001b[1;33m.\u001b[0m\u001b[0mndimage\u001b[0m\u001b[1;33m\u001b[0m\u001b[0m\n\u001b[1;32m----> 8\u001b[1;33m \u001b[1;32mimport\u001b[0m \u001b[0mrospy\u001b[0m\u001b[1;33m\u001b[0m\u001b[0m\n\u001b[0m\u001b[0;32m      9\u001b[0m \u001b[1;33m\u001b[0m\u001b[0m\n\u001b[0;32m     10\u001b[0m \u001b[1;31m#import load_image_batch as driving_data\u001b[0m\u001b[1;33m\u001b[0m\u001b[1;33m\u001b[0m\u001b[0m\n",
      "\u001b[1;31mImportError\u001b[0m: No module named rospy"
     ]
    }
   ],
   "source": [
    "import tensorflow as tf\n",
    "import pandas as pd\n",
    "import numpy as np\n",
    "import cv2\n",
    "import dlib\n",
    "import scipy.misc\n",
    "import scipy.ndimage\n",
    "import rospy\n",
    "\n",
    "#import load_image_batch as driving_data"
   ]
  },
  {
   "cell_type": "code",
   "execution_count": 2,
   "metadata": {
    "collapsed": true
   },
   "outputs": [],
   "source": [
    "# Input and output variables\n",
    "\n",
    "INPUTS = 60 * 200 * 3\n",
    "OUTPUTS = 1\n",
    "BATCH_SIZE = 30\n",
    "NUM_EPOCHS = 50\n",
    "LEARNING_RATE = 1e-04\n",
    "NUM_IMAGES = 6892\n",
    "\n",
    "\n",
    "def conv2d(x, W):\n",
    "    return tf.nn.conv2d(\n",
    "        x, W, strides=[1, 1, 1, 1], padding='SAME')\n",
    "\n",
    "def max_pool_2x2(x):\n",
    "    return tf.nn.max_pool(\n",
    "        x, ksize=[1, 2, 2, 1], strides=[1, 2, 2, 1], padding='SAME')\n",
    "\n",
    "# Input and output placeholder\n",
    "x_image = tf.placeholder(tf.float32, shape=[None, 64, 224, 3])\n",
    "y = tf.placeholder(tf.float32, shape=[None, OUTPUTS])\n",
    "pkeep = tf.placeholder(tf.float32)\n",
    "\n",
    "# First Convolutional Layer\n",
    "W_conv_1 = tf.Variable(tf.truncated_normal([2, 2, 3, 64], stddev=0.1))\n",
    "b_conv_1 = tf.Variable(tf.constant(0.0, shape=[64]))\n",
    "h_conv_1 = tf.nn.relu(conv2d(x_image, W_conv_1) + b_conv_1)\n",
    "h_pool_1 = max_pool_2x2(h_conv_1)\n",
    "\n",
    "\n",
    "# Second Convolutional Layer\n",
    "W_conv_2 = tf.Variable(tf.truncated_normal([2, 2, 64, 128], stddev=0.1))\n",
    "b_conv_2 = tf.Variable(tf.constant(0.0, shape=[128]))\n",
    "h_conv_2 = tf.nn.relu(conv2d(h_pool_1, W_conv_2) + b_conv_2)\n",
    "h_pool_2 = max_pool_2x2(h_conv_2)\n",
    "\n",
    "\n",
    "# Third Convolutional Layer\n",
    "W_conv_3 = tf.Variable(tf.truncated_normal([2, 2, 128, 256], stddev=0.1))\n",
    "b_conv_3 = tf.Variable(tf.constant(0.0, shape=[256]))\n",
    "h_conv_3 = tf.nn.relu(conv2d(h_pool_2, W_conv_3) + b_conv_3)\n",
    "h_pool_3 = max_pool_2x2(h_conv_3)\n",
    "\n",
    "\n",
    "# Fourth Convolutional Layer\n",
    "W_conv_4 = tf.Variable(tf.truncated_normal([2, 2, 256, 512], stddev=0.1))\n",
    "b_conv_4 = tf.Variable(tf.constant(0.0, shape=[512]))\n",
    "h_conv_4 = tf.nn.relu(conv2d(h_pool_3, W_conv_4) + b_conv_4)\n",
    "h_pool_4 = max_pool_2x2(h_conv_4)\n",
    "\n",
    "\n",
    "# Densely connected layer\n",
    "W_fc1 = tf.Variable(tf.truncated_normal([4 * 14 * 512, 128], stddev=0.1))\n",
    "b_fc1 = tf.Variable(tf.constant(0.0, shape=[128]))\n",
    "h_poolfc1_flat = tf.reshape(h_pool_4, [-1, 4 * 14 * 512])\n",
    "h_fc1 = tf.nn.relu(tf.matmul(h_poolfc1_flat, W_fc1) + b_fc1)\n",
    "\n",
    "# Densely connected layer\n",
    "W_fc2 = tf.Variable(tf.truncated_normal([128, 256], stddev=0.1))\n",
    "b_fc2 = tf.Variable(tf.constant(0.0, shape=[256]))\n",
    "h_fc2 = tf.nn.relu(tf.matmul(h_fc1, W_fc2) + b_fc2)\n",
    "\n",
    "# Dropout\n",
    "h_drop = tf.nn.dropout(h_fc2, pkeep)\n",
    "\n",
    "# Read out Layer\n",
    "W_fc3 = tf.Variable(tf.truncated_normal([256, OUTPUTS], stddev=0.1))\n",
    "b_fc3 = tf.Variable(tf.constant(0.0, shape=[OUTPUTS]))\n",
    "y_logits = tf.matmul(h_drop, W_fc3) + b_fc3\n",
    "y_softmax = tf.nn.softmax(y_logits)"
   ]
  },
  {
   "cell_type": "code",
   "execution_count": 3,
   "metadata": {
    "collapsed": true
   },
   "outputs": [],
   "source": [
    "try:\n",
    "    sess.close()\n",
    "except:\n",
    "    pass\n",
    "\n",
    "sess = tf.InteractiveSession()"
   ]
  },
  {
   "cell_type": "code",
   "execution_count": 4,
   "metadata": {
    "collapsed": true
   },
   "outputs": [],
   "source": [
    "video_capture = cv2.VideoCapture(0)\n",
    "\n",
    "saver = tf.train.Saver()\n",
    "saver.restore(sess, \"../model/model.ckpt\")"
   ]
  },
  {
   "cell_type": "code",
   "execution_count": 5,
   "metadata": {
    "collapsed": false
   },
   "outputs": [
    {
     "ename": "NameError",
     "evalue": "name 'rospy' is not defined",
     "output_type": "error",
     "traceback": [
      "\u001b[1;31m---------------------------------------------------------------------------\u001b[0m",
      "\u001b[1;31mNameError\u001b[0m                                 Traceback (most recent call last)",
      "\u001b[1;32m<ipython-input-5-6c3627c3e0b7>\u001b[0m in \u001b[0;36m<module>\u001b[1;34m()\u001b[0m\n\u001b[0;32m      1\u001b[0m \u001b[1;33m\u001b[0m\u001b[0m\n\u001b[0;32m      2\u001b[0m \u001b[1;31m# initiliaze\u001b[0m\u001b[1;33m\u001b[0m\u001b[1;33m\u001b[0m\u001b[0m\n\u001b[1;32m----> 3\u001b[1;33m \u001b[0mrospy\u001b[0m\u001b[1;33m.\u001b[0m\u001b[0minit_node\u001b[0m\u001b[1;33m(\u001b[0m\u001b[1;34m'GoForward'\u001b[0m\u001b[1;33m,\u001b[0m \u001b[0manonymous\u001b[0m\u001b[1;33m=\u001b[0m\u001b[0mFalse\u001b[0m\u001b[1;33m)\u001b[0m\u001b[1;33m\u001b[0m\u001b[0m\n\u001b[0m\u001b[0;32m      4\u001b[0m \u001b[1;33m\u001b[0m\u001b[0m\n\u001b[0;32m      5\u001b[0m \u001b[1;31m# tell user how to stop TurtleBot\u001b[0m\u001b[1;33m\u001b[0m\u001b[1;33m\u001b[0m\u001b[0m\n",
      "\u001b[1;31mNameError\u001b[0m: name 'rospy' is not defined"
     ]
    }
   ],
   "source": [
    "\n",
    "# initiliaze\n",
    "rospy.init_node('GoForward', anonymous=False)\n",
    "\n",
    "# tell user how to stop TurtleBot\n",
    "rospy.loginfo(\"To stop TurtleBot CTRL + C\")\n",
    "\n",
    "# What function to call when you ctrl + c    \n",
    "rospy.on_shutdown(self.shutdown)\n",
    "\n",
    "# Create a publisher which can \"talk\" to TurtleBot and tell it to move\n",
    "# Tip: You may need to change cmd_vel_mux/input/navi to /cmd_vel if you're not using TurtleBot2\n",
    "self.cmd_vel = rospy.Publisher('cmd_vel_mux/input/navi', Twist, queue_size=10)\n",
    "\n",
    "#TurtleBot will stop if we don't keep telling it to move.  How often should we tell it to move? 10 HZ\n",
    "r = rospy.Rate(10);\n",
    "\n",
    "for i in range(10):\n",
    "    \n",
    "    # Capture frame-by-frame\n",
    "    ret, frame = video_capture.read()\n",
    "    \n",
    "    image = np.array(scipy.misc.imresize(frame, [64, 224, 4]) / 255.0)[:,:,:3]\n",
    "\n",
    "    predict = y_softmax.eval(feed_dict={x_image: [image], pkeep: 0.8})\n",
    "\n",
    "    # Twist is a datatype for velocity\n",
    "    move_cmd = Twist()\n",
    "    # let's go forward at 0.2 m/s\n",
    "    move_cmd.linear.x = 0.1\n",
    "    # let's turn at 0 radians/s\n",
    "    move_cmd.angular.z = 5\n",
    "\n",
    "    self.cmd_vel.publish(move_cmd)\n",
    "    \n",
    "    print predict\n",
    "    \n",
    "video_capture.release()"
   ]
  },
  {
   "cell_type": "code",
   "execution_count": null,
   "metadata": {
    "collapsed": true
   },
   "outputs": [],
   "source": [
    "def shutdown(self):\n",
    "    # stop turtlebot\n",
    "    rospy.loginfo(\"Stop TurtleBot\")\n",
    "# a default Twist has linear.x of 0 and angular.z of 0.  So it'll stop TurtleBot\n",
    "    self.cmd_vel.publish(Twist())\n",
    "# sleep just makes sure TurtleBot receives the stop command prior to shutting down the script\n",
    "    rospy.sleep(1)"
   ]
  }
 ],
 "metadata": {
  "kernelspec": {
   "display_name": "Python 2",
   "language": "python",
   "name": "python2"
  },
  "language_info": {
   "codemirror_mode": {
    "name": "ipython",
    "version": 2
   },
   "file_extension": ".py",
   "mimetype": "text/x-python",
   "name": "python",
   "nbconvert_exporter": "python",
   "pygments_lexer": "ipython2",
   "version": "2.7.6"
  }
 },
 "nbformat": 4,
 "nbformat_minor": 0
}
