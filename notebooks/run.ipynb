{
 "cells": [
  {
   "cell_type": "code",
   "execution_count": 1,
   "metadata": {
    "collapsed": false
   },
   "outputs": [
    {
     "ename": "ImportError",
     "evalue": "No module named rospy",
     "output_type": "error",
     "traceback": [
      "\u001b[0;31m---------------------------------------------------------------------------\u001b[0m",
      "\u001b[0;31mImportError\u001b[0m                               Traceback (most recent call last)",
      "\u001b[0;32m<ipython-input-1-11df82e448a4>\u001b[0m in \u001b[0;36m<module>\u001b[0;34m()\u001b[0m\n\u001b[1;32m      4\u001b[0m \u001b[0;32mimport\u001b[0m \u001b[0mcv2\u001b[0m\u001b[0;34m\u001b[0m\u001b[0m\n\u001b[1;32m      5\u001b[0m \u001b[0;32mimport\u001b[0m \u001b[0mdlib\u001b[0m\u001b[0;34m\u001b[0m\u001b[0m\n\u001b[0;32m----> 6\u001b[0;31m \u001b[0;32mimport\u001b[0m \u001b[0mrospy\u001b[0m\u001b[0;34m\u001b[0m\u001b[0m\n\u001b[0m",
      "\u001b[0;31mImportError\u001b[0m: No module named rospy"
     ]
    }
   ],
   "source": [
    "import tensorflow as tf\n",
    "import pandas as pd\n",
    "import numpy as np\n",
    "import cv2\n",
    "import dlib\n",
    "import rospy"
   ]
  },
  {
   "cell_type": "code",
   "execution_count": null,
   "metadata": {
    "collapsed": false
   },
   "outputs": [],
   "source": [
    "video_capture = cv2.VideoCapture(0)\n",
    "win = dlib.image_window()\n",
    "detector = dlib.get_frontal_face_detector()\n",
    "\n",
    "sess = tf.InteractiveSession()\n",
    "saver = tf.train.Saver()\n",
    "saver.restore(sess, \"../model/model.ckpt\")\n",
    "\n",
    "while True:\n",
    "    # Capture frame-by-frame\n",
    "    ret, frame = video_capture.read()\n",
    "    \n",
    "    try:\n",
    "        win.set_image(frame)\n",
    "    except:\n",
    "        pass"
   ]
  },
  {
   "cell_type": "code",
   "execution_count": null,
   "metadata": {
    "collapsed": true
   },
   "outputs": [],
   "source": [
    "# initiliaze\n",
    "rospy.init_node('GoForward', anonymous=False)\n",
    "\n",
    "# tell user how to stop TurtleBot\n",
    "rospy.loginfo(\"To stop TurtleBot CTRL + C\")\n",
    "\n",
    "# What function to call when you ctrl + c    \n",
    "rospy.on_shutdown(self.shutdown)\n",
    "\n",
    "# Create a publisher which can \"talk\" to TurtleBot and tell it to move\n",
    "# Tip: You may need to change cmd_vel_mux/input/navi to /cmd_vel if you're not using TurtleBot2\n",
    "self.cmd_vel = rospy.Publisher('cmd_vel_mux/input/navi', Twist, queue_size=10)\n",
    "\n",
    "#TurtleBot will stop if we don't keep telling it to move.  How often should we tell it to move? 10 HZ\n",
    "r = rospy.Rate(10);\n",
    "\n",
    "# Twist is a datatype for velocity\n",
    "move_cmd = Twist()\n",
    "# let's go forward at 0.2 m/s\n",
    "move_cmd.linear.x = 0.2\n",
    "# let's turn at 0 radians/s\n",
    "move_cmd.angular.z = 0\n",
    "\n",
    "\n",
    "while not rospy.is_shutdown():\n",
    "    self.cmd_vel.publish(move_cmd)\n",
    "    r.sleep()\n",
    "                        "
   ]
  },
  {
   "cell_type": "code",
   "execution_count": null,
   "metadata": {
    "collapsed": true
   },
   "outputs": [],
   "source": [
    "def shutdown(self):\n",
    "    # stop turtlebot\n",
    "    rospy.loginfo(\"Stop TurtleBot\")\n",
    "# a default Twist has linear.x of 0 and angular.z of 0.  So it'll stop TurtleBot\n",
    "    self.cmd_vel.publish(Twist())\n",
    "# sleep just makes sure TurtleBot receives the stop command prior to shutting down the script\n",
    "    rospy.sleep(1)"
   ]
  }
 ],
 "metadata": {
  "kernelspec": {
   "display_name": "Python 2",
   "language": "python",
   "name": "python2"
  },
  "language_info": {
   "codemirror_mode": {
    "name": "ipython",
    "version": 2
   },
   "file_extension": ".py",
   "mimetype": "text/x-python",
   "name": "python",
   "nbconvert_exporter": "python",
   "pygments_lexer": "ipython2",
   "version": "2.7.12"
  }
 },
 "nbformat": 4,
 "nbformat_minor": 0
}
