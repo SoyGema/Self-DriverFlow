{
 "cells": [
  {
   "cell_type": "code",
   "execution_count": 1,
   "metadata": {
    "collapsed": false
   },
   "outputs": [],
   "source": [
    "import tensorflow as tf\n",
    "import pandas as pd\n",
    "import numpy as np\n",
    "import cv2\n",
    "import dlib\n",
    "import scipy.misc\n",
    "import scipy.ndimage\n",
    "\n",
    "import load_image_batch as driving_data"
   ]
  },
  {
   "cell_type": "code",
   "execution_count": 2,
   "metadata": {
    "collapsed": true
   },
   "outputs": [],
   "source": [
    "# Input and output variables\n",
    "\n",
    "INPUTS = 60 * 200 * 3\n",
    "OUTPUTS = 1\n",
    "BATCH_SIZE = 30\n",
    "NUM_EPOCHS = 50\n",
    "LEARNING_RATE = 1e-04\n",
    "NUM_IMAGES = 6892\n",
    "\n",
    "\n",
    "def conv2d(x, W):\n",
    "    return tf.nn.conv2d(\n",
    "        x, W, strides=[1, 1, 1, 1], padding='SAME')\n",
    "\n",
    "def max_pool_2x2(x):\n",
    "    return tf.nn.max_pool(\n",
    "        x, ksize=[1, 2, 2, 1], strides=[1, 2, 2, 1], padding='SAME')\n",
    "\n",
    "# Input and output placeholder\n",
    "x_image = tf.placeholder(tf.float32, shape=[None, 64, 224, 3])\n",
    "y = tf.placeholder(tf.float32, shape=[None, OUTPUTS])\n",
    "pkeep = tf.placeholder(tf.float32)\n",
    "\n",
    "# First Convolutional Layer\n",
    "W_conv_1 = tf.Variable(tf.truncated_normal([2, 2, 3, 64], stddev=0.1))\n",
    "b_conv_1 = tf.Variable(tf.constant(0.0, shape=[64]))\n",
    "h_conv_1 = tf.nn.relu(conv2d(x_image, W_conv_1) + b_conv_1)\n",
    "h_pool_1 = max_pool_2x2(h_conv_1)\n",
    "\n",
    "\n",
    "# Second Convolutional Layer\n",
    "W_conv_2 = tf.Variable(tf.truncated_normal([2, 2, 64, 128], stddev=0.1))\n",
    "b_conv_2 = tf.Variable(tf.constant(0.0, shape=[128]))\n",
    "h_conv_2 = tf.nn.relu(conv2d(h_pool_1, W_conv_2) + b_conv_2)\n",
    "h_pool_2 = max_pool_2x2(h_conv_2)\n",
    "\n",
    "\n",
    "# Third Convolutional Layer\n",
    "W_conv_3 = tf.Variable(tf.truncated_normal([2, 2, 128, 256], stddev=0.1))\n",
    "b_conv_3 = tf.Variable(tf.constant(0.0, shape=[256]))\n",
    "h_conv_3 = tf.nn.relu(conv2d(h_pool_2, W_conv_3) + b_conv_3)\n",
    "h_pool_3 = max_pool_2x2(h_conv_3)\n",
    "\n",
    "\n",
    "# Fourth Convolutional Layer\n",
    "W_conv_4 = tf.Variable(tf.truncated_normal([2, 2, 256, 512], stddev=0.1))\n",
    "b_conv_4 = tf.Variable(tf.constant(0.0, shape=[512]))\n",
    "h_conv_4 = tf.nn.relu(conv2d(h_pool_3, W_conv_4) + b_conv_4)\n",
    "h_pool_4 = max_pool_2x2(h_conv_4)\n",
    "\n",
    "\n",
    "# Densely connected layer\n",
    "W_fc1 = tf.Variable(tf.truncated_normal([4 * 14 * 512, 128], stddev=0.1))\n",
    "b_fc1 = tf.Variable(tf.constant(0.0, shape=[128]))\n",
    "h_poolfc1_flat = tf.reshape(h_pool_4, [-1, 4 * 14 * 512])\n",
    "h_fc1 = tf.nn.relu(tf.matmul(h_poolfc1_flat, W_fc1) + b_fc1)\n",
    "\n",
    "# Densely connected layer\n",
    "W_fc2 = tf.Variable(tf.truncated_normal([128, 256], stddev=0.1))\n",
    "b_fc2 = tf.Variable(tf.constant(0.0, shape=[256]))\n",
    "h_fc2 = tf.nn.relu(tf.matmul(h_fc1, W_fc2) + b_fc2)\n",
    "\n",
    "# Dropout\n",
    "h_drop = tf.nn.dropout(h_fc2, pkeep)\n",
    "\n",
    "# Read out Layer\n",
    "W_fc3 = tf.Variable(tf.truncated_normal([256, OUTPUTS], stddev=0.1))\n",
    "b_fc3 = tf.Variable(tf.constant(0.0, shape=[OUTPUTS]))\n",
    "y_logits = tf.matmul(h_drop, W_fc3) + b_fc3\n",
    "y_softmax = tf.nn.softmax(y_logits)"
   ]
  },
  {
   "cell_type": "code",
   "execution_count": 3,
   "metadata": {
    "collapsed": true
   },
   "outputs": [],
   "source": [
    "try:\n",
    "    sess.close()\n",
    "except:\n",
    "    pass\n",
    "\n",
    "sess = tf.InteractiveSession()"
   ]
  },
  {
   "cell_type": "code",
   "execution_count": 4,
   "metadata": {
    "collapsed": true
   },
   "outputs": [],
   "source": [
    "video_capture = cv2.VideoCapture(0)\n",
    "\n",
    "saver = tf.train.Saver()\n",
    "saver.restore(sess, \"../model/model.ckpt\")"
   ]
  },
  {
   "cell_type": "code",
   "execution_count": 5,
   "metadata": {
    "collapsed": true
   },
   "outputs": [],
   "source": [
    "test_dataset, test_labels = driving_data.get_test_batch(BATCH_SIZE)"
   ]
  },
  {
   "cell_type": "code",
   "execution_count": 7,
   "metadata": {
    "collapsed": false
   },
   "outputs": [
    {
     "name": "stdout",
     "output_type": "stream",
     "text": [
      "[[ 1.]]\n",
      "[[ 1.]]\n",
      "[[ 1.]]\n",
      "[[ 1.]]\n",
      "[[ 1.]]\n",
      "[[ 1.]]\n",
      "[[ 1.]]\n",
      "[[ 1.]]\n",
      "[[ 1.]]\n",
      "[[ 1.]]\n",
      "[[ 1.]]\n",
      "[[ 1.]]\n",
      "[[ 1.]]\n",
      "[[ 1.]]\n",
      "[[ 1.]]\n",
      "[[ 1.]]\n",
      "[[ 1.]]\n",
      "[[ 1.]]\n",
      "[[ 1.]]\n",
      "[[ 1.]]\n",
      "[[ 1.]]\n",
      "[[ 1.]]\n",
      "[[ 1.]]\n",
      "[[ 1.]]\n",
      "[[ 1.]]\n",
      "[[ 1.]]\n",
      "[[ 1.]]\n",
      "[[ 1.]]\n",
      "[[ 1.]]\n",
      "[[ 1.]]\n"
     ]
    },
    {
     "ename": "IndexError",
     "evalue": "list index out of range",
     "output_type": "error",
     "traceback": [
      "\u001b[0;31m---------------------------------------------------------------------------\u001b[0m",
      "\u001b[0;31mIndexError\u001b[0m                                Traceback (most recent call last)",
      "\u001b[0;32m<ipython-input-7-a7932358aa2f>\u001b[0m in \u001b[0;36m<module>\u001b[0;34m()\u001b[0m\n\u001b[1;32m      6\u001b[0m     \u001b[0mimage\u001b[0m \u001b[0;34m=\u001b[0m \u001b[0mnp\u001b[0m\u001b[0;34m.\u001b[0m\u001b[0marray\u001b[0m\u001b[0;34m(\u001b[0m\u001b[0mscipy\u001b[0m\u001b[0;34m.\u001b[0m\u001b[0mmisc\u001b[0m\u001b[0;34m.\u001b[0m\u001b[0mimresize\u001b[0m\u001b[0;34m(\u001b[0m\u001b[0mframe\u001b[0m\u001b[0;34m,\u001b[0m \u001b[0;34m[\u001b[0m\u001b[0;36m64\u001b[0m\u001b[0;34m,\u001b[0m \u001b[0;36m224\u001b[0m\u001b[0;34m,\u001b[0m \u001b[0;36m4\u001b[0m\u001b[0;34m]\u001b[0m\u001b[0;34m)\u001b[0m \u001b[0;34m/\u001b[0m \u001b[0;36m255.0\u001b[0m\u001b[0;34m)\u001b[0m\u001b[0;34m[\u001b[0m\u001b[0;34m:\u001b[0m\u001b[0;34m,\u001b[0m\u001b[0;34m:\u001b[0m\u001b[0;34m,\u001b[0m\u001b[0;34m:\u001b[0m\u001b[0;36m3\u001b[0m\u001b[0;34m]\u001b[0m\u001b[0;34m\u001b[0m\u001b[0m\n\u001b[1;32m      7\u001b[0m \u001b[0;34m\u001b[0m\u001b[0m\n\u001b[0;32m----> 8\u001b[0;31m     \u001b[0mpredict\u001b[0m \u001b[0;34m=\u001b[0m \u001b[0my_softmax\u001b[0m\u001b[0;34m.\u001b[0m\u001b[0meval\u001b[0m\u001b[0;34m(\u001b[0m\u001b[0mfeed_dict\u001b[0m\u001b[0;34m=\u001b[0m\u001b[0;34m{\u001b[0m\u001b[0mx_image\u001b[0m\u001b[0;34m:\u001b[0m \u001b[0;34m[\u001b[0m\u001b[0mtest_dataset\u001b[0m\u001b[0;34m[\u001b[0m\u001b[0mi\u001b[0m\u001b[0;34m]\u001b[0m\u001b[0;34m]\u001b[0m\u001b[0;34m,\u001b[0m \u001b[0mpkeep\u001b[0m\u001b[0;34m:\u001b[0m \u001b[0;36m0.8\u001b[0m\u001b[0;34m}\u001b[0m\u001b[0;34m)\u001b[0m\u001b[0;34m\u001b[0m\u001b[0m\n\u001b[0m\u001b[1;32m      9\u001b[0m \u001b[0;34m\u001b[0m\u001b[0m\n\u001b[1;32m     10\u001b[0m     \u001b[0;32mprint\u001b[0m \u001b[0mpredict\u001b[0m\u001b[0;34m\u001b[0m\u001b[0m\n",
      "\u001b[0;31mIndexError\u001b[0m: list index out of range"
     ]
    }
   ],
   "source": [
    "for i in range(100):\n",
    "    \n",
    "    # Capture frame-by-frame\n",
    "    ret, frame = video_capture.read()\n",
    "    \n",
    "    image = np.array(scipy.misc.imresize(frame, [64, 224, 4]) / 255.0)[:,:,:3]\n",
    "\n",
    "    predict = y_softmax.eval(feed_dict={x_image: [test_dataset[i]], pkeep: 0.8})\n",
    "\n",
    "    print predict\n",
    "    \n",
    "video_capture.release()"
   ]
  },
  {
   "cell_type": "code",
   "execution_count": null,
   "metadata": {
    "collapsed": true
   },
   "outputs": [],
   "source": [
    "# initiliaze\n",
    "rospy.init_node('GoForward', anonymous=False)\n",
    "\n",
    "# tell user how to stop TurtleBot\n",
    "rospy.loginfo(\"To stop TurtleBot CTRL + C\")\n",
    "\n",
    "# What function to call when you ctrl + c    \n",
    "rospy.on_shutdown(self.shutdown)\n",
    "\n",
    "# Create a publisher which can \"talk\" to TurtleBot and tell it to move\n",
    "# Tip: You may need to change cmd_vel_mux/input/navi to /cmd_vel if you're not using TurtleBot2\n",
    "self.cmd_vel = rospy.Publisher('cmd_vel_mux/input/navi', Twist, queue_size=10)\n",
    "\n",
    "#TurtleBot will stop if we don't keep telling it to move.  How often should we tell it to move? 10 HZ\n",
    "r = rospy.Rate(10);\n",
    "\n",
    "# Twist is a datatype for velocity\n",
    "move_cmd = Twist()\n",
    "# let's go forward at 0.2 m/s\n",
    "move_cmd.linear.x = 0.2\n",
    "# let's turn at 0 radians/s\n",
    "move_cmd.angular.z = 0\n",
    "\n",
    "\n",
    "while not rospy.is_shutdown():\n",
    "    self.cmd_vel.publish(move_cmd)\n",
    "    r.sleep()\n",
    "                        "
   ]
  },
  {
   "cell_type": "code",
   "execution_count": null,
   "metadata": {
    "collapsed": true
   },
   "outputs": [],
   "source": [
    "def shutdown(self):\n",
    "    # stop turtlebot\n",
    "    rospy.loginfo(\"Stop TurtleBot\")\n",
    "# a default Twist has linear.x of 0 and angular.z of 0.  So it'll stop TurtleBot\n",
    "    self.cmd_vel.publish(Twist())\n",
    "# sleep just makes sure TurtleBot receives the stop command prior to shutting down the script\n",
    "    rospy.sleep(1)"
   ]
  }
 ],
 "metadata": {
  "kernelspec": {
   "display_name": "Python 2",
   "language": "python",
   "name": "python2"
  },
  "language_info": {
   "codemirror_mode": {
    "name": "ipython",
    "version": 2
   },
   "file_extension": ".py",
   "mimetype": "text/x-python",
   "name": "python",
   "nbconvert_exporter": "python",
   "pygments_lexer": "ipython2",
   "version": "2.7.12"
  }
 },
 "nbformat": 4,
 "nbformat_minor": 0
}
